{
 "cells": [
  {
   "cell_type": "markdown",
   "metadata": {},
   "source": [
    "# Parse and create an oriented graph of COMP courses\n",
    "\n",
    "The idea is to parse the course website and get prerequisite field for each course, not caring wether it's an AND or OR condition."
   ]
  },
  {
   "cell_type": "code",
   "execution_count": 4,
   "metadata": {
    "collapsed": true
   },
   "outputs": [],
   "source": [
    "from time import sleep\n",
    "from random import randint\n",
    "from selenium import webdriver\n",
    "from pyvirtualdisplay import Display"
   ]
  },
  {
   "cell_type": "code",
   "execution_count": 5,
   "metadata": {
    "collapsed": true
   },
   "outputs": [],
   "source": [
    "url = \"https://w5.ab.ust.hk/wcq/cgi-bin/2010/subject/COMP\""
   ]
  },
  {
   "cell_type": "code",
   "execution_count": 6,
   "metadata": {
    "collapsed": false
   },
   "outputs": [
    {
     "name": "stdout",
     "output_type": "stream",
     "text": [
      "starting driver...\n"
     ]
    },
    {
     "ename": "EasyProcessError",
     "evalue": "start error <EasyProcess cmd_param=['Xvfb', '-help'] cmd=['Xvfb', '-help'] oserror=[Errno 2] No such file or directory: 'Xvfb' return_code=None stdout=\"None\" stderr=\"None\" timeout_happened=False>",
     "output_type": "error",
     "traceback": [
      "\u001B[0;31m---------------------------------------------------------------------------\u001B[0m",
      "\u001B[0;31mFileNotFoundError\u001B[0m                         Traceback (most recent call last)",
      "\u001B[0;32m/usr/lib/python3.8/site-packages/easyprocess/__init__.py\u001B[0m in \u001B[0;36mstart\u001B[0;34m(self)\u001B[0m\n\u001B[1;32m    167\u001B[0m         \u001B[0;32mtry\u001B[0m\u001B[0;34m:\u001B[0m\u001B[0;34m\u001B[0m\u001B[0;34m\u001B[0m\u001B[0m\n\u001B[0;32m--> 168\u001B[0;31m             self.popen = subprocess.Popen(\n\u001B[0m\u001B[1;32m    169\u001B[0m                 \u001B[0mcmd\u001B[0m\u001B[0;34m,\u001B[0m \u001B[0mstdout\u001B[0m\u001B[0;34m=\u001B[0m\u001B[0mstdout\u001B[0m\u001B[0;34m,\u001B[0m \u001B[0mstderr\u001B[0m\u001B[0;34m=\u001B[0m\u001B[0mstderr\u001B[0m\u001B[0;34m,\u001B[0m \u001B[0mcwd\u001B[0m\u001B[0;34m=\u001B[0m\u001B[0mself\u001B[0m\u001B[0;34m.\u001B[0m\u001B[0mcwd\u001B[0m\u001B[0;34m,\u001B[0m \u001B[0menv\u001B[0m\u001B[0;34m=\u001B[0m\u001B[0mself\u001B[0m\u001B[0;34m.\u001B[0m\u001B[0menv\u001B[0m\u001B[0;34m,\u001B[0m\u001B[0;34m\u001B[0m\u001B[0;34m\u001B[0m\u001B[0m\n",
      "\u001B[0;32m/usr/lib/python3.8/subprocess.py\u001B[0m in \u001B[0;36m__init__\u001B[0;34m(self, args, bufsize, executable, stdin, stdout, stderr, preexec_fn, close_fds, shell, cwd, env, universal_newlines, startupinfo, creationflags, restore_signals, start_new_session, pass_fds, encoding, errors, text)\u001B[0m\n\u001B[1;32m    853\u001B[0m \u001B[0;34m\u001B[0m\u001B[0m\n\u001B[0;32m--> 854\u001B[0;31m             self._execute_child(args, executable, preexec_fn, close_fds,\n\u001B[0m\u001B[1;32m    855\u001B[0m                                 \u001B[0mpass_fds\u001B[0m\u001B[0;34m,\u001B[0m \u001B[0mcwd\u001B[0m\u001B[0;34m,\u001B[0m \u001B[0menv\u001B[0m\u001B[0;34m,\u001B[0m\u001B[0;34m\u001B[0m\u001B[0;34m\u001B[0m\u001B[0m\n",
      "\u001B[0;32m/usr/lib/python3.8/subprocess.py\u001B[0m in \u001B[0;36m_execute_child\u001B[0;34m(self, args, executable, preexec_fn, close_fds, pass_fds, cwd, env, startupinfo, creationflags, shell, p2cread, p2cwrite, c2pread, c2pwrite, errread, errwrite, restore_signals, start_new_session)\u001B[0m\n\u001B[1;32m   1701\u001B[0m                         \u001B[0merr_msg\u001B[0m \u001B[0;34m=\u001B[0m \u001B[0mos\u001B[0m\u001B[0;34m.\u001B[0m\u001B[0mstrerror\u001B[0m\u001B[0;34m(\u001B[0m\u001B[0merrno_num\u001B[0m\u001B[0;34m)\u001B[0m\u001B[0;34m\u001B[0m\u001B[0;34m\u001B[0m\u001B[0m\n\u001B[0;32m-> 1702\u001B[0;31m                     \u001B[0;32mraise\u001B[0m \u001B[0mchild_exception_type\u001B[0m\u001B[0;34m(\u001B[0m\u001B[0merrno_num\u001B[0m\u001B[0;34m,\u001B[0m \u001B[0merr_msg\u001B[0m\u001B[0;34m,\u001B[0m \u001B[0merr_filename\u001B[0m\u001B[0;34m)\u001B[0m\u001B[0;34m\u001B[0m\u001B[0;34m\u001B[0m\u001B[0m\n\u001B[0m\u001B[1;32m   1703\u001B[0m                 \u001B[0;32mraise\u001B[0m \u001B[0mchild_exception_type\u001B[0m\u001B[0;34m(\u001B[0m\u001B[0merr_msg\u001B[0m\u001B[0;34m)\u001B[0m\u001B[0;34m\u001B[0m\u001B[0;34m\u001B[0m\u001B[0m\n",
      "\u001B[0;31mFileNotFoundError\u001B[0m: [Errno 2] No such file or directory: 'Xvfb'",
      "\nDuring handling of the above exception, another exception occurred:\n",
      "\u001B[0;31mEasyProcessError\u001B[0m                          Traceback (most recent call last)",
      "\u001B[0;32m<ipython-input-6-90bf527b5b5f>\u001B[0m in \u001B[0;36m<module>\u001B[0;34m\u001B[0m\n\u001B[1;32m      1\u001B[0m \u001B[0mprint\u001B[0m\u001B[0;34m(\u001B[0m\u001B[0;34m'starting driver...'\u001B[0m\u001B[0;34m)\u001B[0m\u001B[0;34m\u001B[0m\u001B[0;34m\u001B[0m\u001B[0m\n\u001B[0;32m----> 2\u001B[0;31m \u001B[0mdisplay\u001B[0m \u001B[0;34m=\u001B[0m \u001B[0mDisplay\u001B[0m\u001B[0;34m(\u001B[0m\u001B[0mvisible\u001B[0m\u001B[0;34m=\u001B[0m\u001B[0;36m0\u001B[0m\u001B[0;34m,\u001B[0m \u001B[0msize\u001B[0m\u001B[0;34m=\u001B[0m\u001B[0;34m(\u001B[0m\u001B[0;36m800\u001B[0m\u001B[0;34m,\u001B[0m \u001B[0;36m600\u001B[0m\u001B[0;34m)\u001B[0m\u001B[0;34m)\u001B[0m\u001B[0;34m\u001B[0m\u001B[0;34m\u001B[0m\u001B[0m\n\u001B[0m\u001B[1;32m      3\u001B[0m \u001B[0mdisplay\u001B[0m\u001B[0;34m.\u001B[0m\u001B[0mstart\u001B[0m\u001B[0;34m(\u001B[0m\u001B[0;34m)\u001B[0m\u001B[0;34m\u001B[0m\u001B[0;34m\u001B[0m\u001B[0m\n\u001B[1;32m      4\u001B[0m \u001B[0mdriver\u001B[0m \u001B[0;34m=\u001B[0m \u001B[0mwebdriver\u001B[0m\u001B[0;34m.\u001B[0m\u001B[0mChrome\u001B[0m\u001B[0;34m(\u001B[0m\u001B[0;34m)\u001B[0m\u001B[0;34m\u001B[0m\u001B[0;34m\u001B[0m\u001B[0m\n\u001B[1;32m      5\u001B[0m \u001B[0msleep\u001B[0m\u001B[0;34m(\u001B[0m\u001B[0;36m4\u001B[0m\u001B[0;34m)\u001B[0m\u001B[0;34m\u001B[0m\u001B[0;34m\u001B[0m\u001B[0m\n",
      "\u001B[0;32m/usr/lib/python3.8/site-packages/pyvirtualdisplay/display.py\u001B[0m in \u001B[0;36m__init__\u001B[0;34m(self, backend, visible, size, color_depth, bgcolor, use_xauth, randomizer, retries, extra_args, **kwargs)\u001B[0m\n\u001B[1;32m     48\u001B[0m             \u001B[0;32mraise\u001B[0m \u001B[0mValueError\u001B[0m\u001B[0;34m(\u001B[0m\u001B[0;34m\"unknown backend: %s\"\u001B[0m \u001B[0;34m%\u001B[0m \u001B[0mself\u001B[0m\u001B[0;34m.\u001B[0m\u001B[0m_backend\u001B[0m\u001B[0;34m)\u001B[0m\u001B[0;34m\u001B[0m\u001B[0;34m\u001B[0m\u001B[0m\n\u001B[1;32m     49\u001B[0m \u001B[0;34m\u001B[0m\u001B[0m\n\u001B[0;32m---> 50\u001B[0;31m         self._obj = cls(\n\u001B[0m\u001B[1;32m     51\u001B[0m             \u001B[0msize\u001B[0m\u001B[0;34m=\u001B[0m\u001B[0msize\u001B[0m\u001B[0;34m,\u001B[0m\u001B[0;34m\u001B[0m\u001B[0;34m\u001B[0m\u001B[0m\n\u001B[1;32m     52\u001B[0m             \u001B[0mcolor_depth\u001B[0m\u001B[0;34m=\u001B[0m\u001B[0mcolor_depth\u001B[0m\u001B[0;34m,\u001B[0m\u001B[0;34m\u001B[0m\u001B[0;34m\u001B[0m\u001B[0m\n",
      "\u001B[0;32m/usr/lib/python3.8/site-packages/pyvirtualdisplay/xvfb.py\u001B[0m in \u001B[0;36m__init__\u001B[0;34m(self, size, color_depth, bgcolor, use_xauth, fbdir, dpi, randomizer, retries, extra_args)\u001B[0m\n\u001B[1;32m     45\u001B[0m         \u001B[0mself\u001B[0m\u001B[0;34m.\u001B[0m\u001B[0m_dpi\u001B[0m \u001B[0;34m=\u001B[0m \u001B[0mdpi\u001B[0m\u001B[0;34m\u001B[0m\u001B[0;34m\u001B[0m\u001B[0m\n\u001B[1;32m     46\u001B[0m \u001B[0;34m\u001B[0m\u001B[0m\n\u001B[0;32m---> 47\u001B[0;31m         AbstractDisplay.__init__(\n\u001B[0m\u001B[1;32m     48\u001B[0m             \u001B[0mself\u001B[0m\u001B[0;34m,\u001B[0m\u001B[0;34m\u001B[0m\u001B[0;34m\u001B[0m\u001B[0m\n\u001B[1;32m     49\u001B[0m             \u001B[0mPROGRAM\u001B[0m\u001B[0;34m,\u001B[0m\u001B[0;34m\u001B[0m\u001B[0;34m\u001B[0m\u001B[0m\n",
      "\u001B[0;32m/usr/lib/python3.8/site-packages/pyvirtualdisplay/abstractdisplay.py\u001B[0m in \u001B[0;36m__init__\u001B[0;34m(self, program, use_xauth, randomizer, retries, extra_args)\u001B[0m\n\u001B[1;32m     85\u001B[0m         \u001B[0mself\u001B[0m\u001B[0;34m.\u001B[0m\u001B[0mis_started\u001B[0m \u001B[0;34m=\u001B[0m \u001B[0;32mFalse\u001B[0m\u001B[0;34m\u001B[0m\u001B[0;34m\u001B[0m\u001B[0m\n\u001B[1;32m     86\u001B[0m \u001B[0;34m\u001B[0m\u001B[0m\n\u001B[0;32m---> 87\u001B[0;31m         \u001B[0mhelptext\u001B[0m \u001B[0;34m=\u001B[0m \u001B[0mget_helptext\u001B[0m\u001B[0;34m(\u001B[0m\u001B[0mprogram\u001B[0m\u001B[0;34m)\u001B[0m\u001B[0;34m\u001B[0m\u001B[0;34m\u001B[0m\u001B[0m\n\u001B[0m\u001B[1;32m     88\u001B[0m         \u001B[0mself\u001B[0m\u001B[0;34m.\u001B[0m\u001B[0m_has_displayfd\u001B[0m \u001B[0;34m=\u001B[0m \u001B[0;34m\"-displayfd\"\u001B[0m \u001B[0;32min\u001B[0m \u001B[0mhelptext\u001B[0m\u001B[0;34m\u001B[0m\u001B[0;34m\u001B[0m\u001B[0m\n\u001B[1;32m     89\u001B[0m         \u001B[0;32mif\u001B[0m \u001B[0;32mnot\u001B[0m \u001B[0mself\u001B[0m\u001B[0;34m.\u001B[0m\u001B[0m_has_displayfd\u001B[0m\u001B[0;34m:\u001B[0m\u001B[0;34m\u001B[0m\u001B[0;34m\u001B[0m\u001B[0m\n",
      "\u001B[0;32m/usr/lib/python3.8/site-packages/pyvirtualdisplay/util.py\u001B[0m in \u001B[0;36mget_helptext\u001B[0;34m(program)\u001B[0m\n\u001B[1;32m      8\u001B[0m     \u001B[0mp\u001B[0m\u001B[0;34m.\u001B[0m\u001B[0menable_stdout_log\u001B[0m \u001B[0;34m=\u001B[0m \u001B[0;32mFalse\u001B[0m\u001B[0;34m\u001B[0m\u001B[0;34m\u001B[0m\u001B[0m\n\u001B[1;32m      9\u001B[0m     \u001B[0mp\u001B[0m\u001B[0;34m.\u001B[0m\u001B[0menable_stderr_log\u001B[0m \u001B[0;34m=\u001B[0m \u001B[0;32mFalse\u001B[0m\u001B[0;34m\u001B[0m\u001B[0;34m\u001B[0m\u001B[0m\n\u001B[0;32m---> 10\u001B[0;31m     \u001B[0mp\u001B[0m\u001B[0;34m.\u001B[0m\u001B[0mcall\u001B[0m\u001B[0;34m(\u001B[0m\u001B[0;34m)\u001B[0m\u001B[0;34m\u001B[0m\u001B[0;34m\u001B[0m\u001B[0m\n\u001B[0m\u001B[1;32m     11\u001B[0m     \u001B[0mhelptext\u001B[0m \u001B[0;34m=\u001B[0m \u001B[0mp\u001B[0m\u001B[0;34m.\u001B[0m\u001B[0mstderr\u001B[0m\u001B[0;34m\u001B[0m\u001B[0;34m\u001B[0m\u001B[0m\n\u001B[1;32m     12\u001B[0m     \u001B[0;32mreturn\u001B[0m \u001B[0mhelptext\u001B[0m\u001B[0;34m\u001B[0m\u001B[0;34m\u001B[0m\u001B[0m\n",
      "\u001B[0;32m/usr/lib/python3.8/site-packages/easyprocess/__init__.py\u001B[0m in \u001B[0;36mcall\u001B[0;34m(self, timeout)\u001B[0m\n\u001B[1;32m    139\u001B[0m \u001B[0;34m\u001B[0m\u001B[0m\n\u001B[1;32m    140\u001B[0m         \"\"\"\n\u001B[0;32m--> 141\u001B[0;31m         \u001B[0mself\u001B[0m\u001B[0;34m.\u001B[0m\u001B[0mstart\u001B[0m\u001B[0;34m(\u001B[0m\u001B[0;34m)\u001B[0m\u001B[0;34m.\u001B[0m\u001B[0mwait\u001B[0m\u001B[0;34m(\u001B[0m\u001B[0mtimeout\u001B[0m\u001B[0;34m=\u001B[0m\u001B[0mtimeout\u001B[0m\u001B[0;34m)\u001B[0m\u001B[0;34m\u001B[0m\u001B[0;34m\u001B[0m\u001B[0m\n\u001B[0m\u001B[1;32m    142\u001B[0m         \u001B[0;32mif\u001B[0m \u001B[0mself\u001B[0m\u001B[0;34m.\u001B[0m\u001B[0mis_alive\u001B[0m\u001B[0;34m(\u001B[0m\u001B[0;34m)\u001B[0m\u001B[0;34m:\u001B[0m\u001B[0;34m\u001B[0m\u001B[0;34m\u001B[0m\u001B[0m\n\u001B[1;32m    143\u001B[0m             \u001B[0mself\u001B[0m\u001B[0;34m.\u001B[0m\u001B[0mstop\u001B[0m\u001B[0;34m(\u001B[0m\u001B[0;34m)\u001B[0m\u001B[0;34m\u001B[0m\u001B[0;34m\u001B[0m\u001B[0m\n",
      "\u001B[0;32m/usr/lib/python3.8/site-packages/easyprocess/__init__.py\u001B[0m in \u001B[0;36mstart\u001B[0;34m(self)\u001B[0m\n\u001B[1;32m    172\u001B[0m             \u001B[0mlog\u001B[0m\u001B[0;34m.\u001B[0m\u001B[0mdebug\u001B[0m\u001B[0;34m(\u001B[0m\u001B[0;34m\"OSError exception: %s\"\u001B[0m\u001B[0;34m,\u001B[0m \u001B[0moserror\u001B[0m\u001B[0;34m)\u001B[0m\u001B[0;34m\u001B[0m\u001B[0;34m\u001B[0m\u001B[0m\n\u001B[1;32m    173\u001B[0m             \u001B[0mself\u001B[0m\u001B[0;34m.\u001B[0m\u001B[0moserror\u001B[0m \u001B[0;34m=\u001B[0m \u001B[0moserror\u001B[0m\u001B[0;34m\u001B[0m\u001B[0;34m\u001B[0m\u001B[0m\n\u001B[0;32m--> 174\u001B[0;31m             \u001B[0;32mraise\u001B[0m \u001B[0mEasyProcessError\u001B[0m\u001B[0;34m(\u001B[0m\u001B[0mself\u001B[0m\u001B[0;34m,\u001B[0m \u001B[0;34m\"start error\"\u001B[0m\u001B[0;34m)\u001B[0m\u001B[0;34m\u001B[0m\u001B[0;34m\u001B[0m\u001B[0m\n\u001B[0m\u001B[1;32m    175\u001B[0m         \u001B[0mself\u001B[0m\u001B[0;34m.\u001B[0m\u001B[0mis_started\u001B[0m \u001B[0;34m=\u001B[0m \u001B[0;32mTrue\u001B[0m\u001B[0;34m\u001B[0m\u001B[0;34m\u001B[0m\u001B[0m\n\u001B[1;32m    176\u001B[0m         \u001B[0mlog\u001B[0m\u001B[0;34m.\u001B[0m\u001B[0mdebug\u001B[0m\u001B[0;34m(\u001B[0m\u001B[0;34m\"process was started (pid=%s)\"\u001B[0m\u001B[0;34m,\u001B[0m \u001B[0mself\u001B[0m\u001B[0;34m.\u001B[0m\u001B[0mpid\u001B[0m\u001B[0;34m)\u001B[0m\u001B[0;34m\u001B[0m\u001B[0;34m\u001B[0m\u001B[0m\n",
      "\u001B[0;31mEasyProcessError\u001B[0m: start error <EasyProcess cmd_param=['Xvfb', '-help'] cmd=['Xvfb', '-help'] oserror=[Errno 2] No such file or directory: 'Xvfb' return_code=None stdout=\"None\" stderr=\"None\" timeout_happened=False>"
     ]
    }
   ],
   "source": [
    "print('starting driver...')\n",
    "display = Display(visible=0, size=(800, 600))\n",
    "display.start()\n",
    "driver = webdriver.Chrome()\n",
    "sleep(4)"
   ]
  },
  {
   "cell_type": "code",
   "execution_count": null,
   "metadata": {
    "collapsed": false
   },
   "outputs": [],
   "source": [
    "print('getting page...')\n",
    "driver.get(url)\n",
    "sleep(randint(2,3))"
   ]
  },
  {
   "cell_type": "code",
   "execution_count": null,
   "metadata": {
    "collapsed": true
   },
   "outputs": [],
   "source": [
    "all_courses = []\n",
    "links = []\n",
    "\n",
    "for div in driver.find_elements_by_xpath('//div[@id=\"classes\"]')[0].find_elements_by_class_name('course'):\n",
    "    name = div.find_element_by_tag_name('h2').text\n",
    "    description = \"\"\n",
    "    prerequisite = \"\"\n",
    "    dept = name.split(' ')[0]\n",
    "#         print name\n",
    "    courseinfo = div.find_elements_by_xpath('./*[@class=\"courseinfo\"]/*[@class=\"courseattr popup\"]/*[@class=\"popupdetail\"]/table/tbody/tr')\n",
    "#         print len(courseinfo)\n",
    "    for info in courseinfo:\n",
    "        if info.find_element_by_tag_name('th').get_attribute('innerHTML') == 'DESCRIPTION':\n",
    "            description = info.find_element_by_tag_name('td').get_attribute('innerHTML')\n",
    "        if info.find_element_by_tag_name('th').get_attribute('innerHTML') == 'PRE-REQUISITE':\n",
    "            prerequisite = info.find_element_by_tag_name('td').get_attribute('innerHTML')\n",
    "#                 print description\n",
    "    current_course = {\n",
    "        'name':name,\n",
    "        'description':description,\n",
    "        'dept':dept,\n",
    "        'prerequisite':prerequisite\n",
    "    }\n",
    "    all_courses.append(current_course)\n",
    "        "
   ]
  },
  {
   "cell_type": "code",
   "execution_count": null,
   "metadata": {
    "collapsed": true
   },
   "outputs": [],
   "source": [
    "# Find prerequisites"
   ]
  },
  {
   "cell_type": "markdown",
   "metadata": {},
   "source": [
    "### Open Problem\n",
    "\n",
    "Find the Regex to match COMP ISOM or MATH course codes, I couldn't figure it out myself\n",
    "\n",
    "\n",
    "#### Sample examples:\n",
    "\n",
    "```\n",
    "COMP 2011 OR COMP 2012 OR COMP 2012H\n",
    "(COMP 3711 OR COMP 3711H) AND (MATH 2111)\n",
    "COMP 1002 (prior to 2013-14) OR COMP 1004 (prior to 2013-14) OR COMP 1021 OR COMP 1022Q OR ISOM 3230\n",
    "COMP 1021 OR COMP 1022P OR COMP 1022Q OR ISOM 3230\n",
    "COMP 2611 OR [ELEC 2300 AND (COMP 1002 (prior to 2013-14) OR COMP 1004 (prior to 2013-14) OR COMP 2011 OR COMP 2012H)]\n",
    "```\n",
    "\n",
    "#### Sample outputs:\n",
    "\n",
    "```python\n",
    "[\"COMP 2011\",\"COMP 2012\",\"COMP 2012H\"]\n",
    "[\"COMP 3711\",\"COMP 3711H\",\"MATH 2111\"]\n",
    "[\"COMP 1002\",\"COMP 1004\",\"COMP 1021\",\"COMP 1022Q\",\"ISOM 3230\"]\n",
    "[\"COMP 1021\",\"COMP 1022P\",\"COMP 1022Q\",\"ISOM 3230\"]\n",
    "[\"COMP 2611\",\"ELEC 2300\",\"COMP 1002\",\"COMP 1004\",\"COMP 2011\",\"COMP 2012H\"]\n",
    "```\n",
    "\n",
    "### Never mind, found one\n",
    "\n",
    "Regex: `\\w\\w\\w+ \\d\\w+`  \n",
    "Check [https://regex101.com](https://regex101.com) and [http://regex.inginf.units.it](http://regex.inginf.units.it)"
   ]
  },
  {
   "cell_type": "code",
   "execution_count": null,
   "metadata": {
    "collapsed": false
   },
   "outputs": [],
   "source": [
    "import re\n",
    "p = re.compile('\\w\\w\\w+ \\d\\w+')\n",
    "html = \"<style>.regex_match{color:red}</style>\"\n",
    "\n",
    "for course in all_courses:\n",
    "    text = course['prerequisite']\n",
    "    prerequisite_list = p.findall(course['prerequisite'])\n",
    "    course['prerequisite_list'] = prerequisite_list\n",
    "    for highlight in prerequisite_list:\n",
    "        text = re.sub(str(highlight),r'<span class=\"regex_match\">\\g<0></span>',text)\n",
    "    html+=text+'<br>'\n",
    "#     print text\n",
    "\n",
    "from IPython.core.display import display, HTML\n",
    "display(HTML(html))\n",
    "# small error with Honors courses, they come from the display, issue with \"COMP1022Q\" which is not labelled as the others."
   ]
  },
  {
   "cell_type": "code",
   "execution_count": null,
   "metadata": {
    "collapsed": false
   },
   "outputs": [],
   "source": [
    "nodes = []\n",
    "links = []\n",
    "\n",
    "for course in all_courses:\n",
    "    name = course['name'].split(' - ')[0]\n",
    "    nodes.append(name)\n",
    "    for highlight in course['prerequisite_list']:\n",
    "        links.append((name,highlight))\n",
    "        if highlight not in nodes:\n",
    "            nodes.append(highlight)"
   ]
  },
  {
   "cell_type": "code",
   "execution_count": null,
   "metadata": {
    "collapsed": false
   },
   "outputs": [],
   "source": [
    "nodes"
   ]
  },
  {
   "cell_type": "code",
   "execution_count": null,
   "metadata": {
    "collapsed": false
   },
   "outputs": [],
   "source": [
    "links"
   ]
  },
  {
   "cell_type": "code",
   "execution_count": null,
   "metadata": {
    "collapsed": false
   },
   "outputs": [],
   "source": [
    "# import matplotlib.pyplot as plt\n",
    "# import networkx as nx\n",
    "\n",
    "# G=nx.Graph()\n",
    "# G.add_nodes_from(nodes)\n",
    "# pos=nx.spring_layout(G) # positions for all nodes\n",
    "\n",
    "# # nodes\n",
    "# nx.draw_networkx_nodes(G,pos,\n",
    "#                        nodelist=nodes,\n",
    "#                        node_color='r',\n",
    "#                        node_size=800,\n",
    "#                         alpha=0.8)\n",
    "\n",
    "# # edges\n",
    "# nx.draw_networkx_edges(G,pos,width=1.0,alpha=0.5)\n",
    "# nx.draw_networkx_edges(G,pos,\n",
    "#                        edgelist=links,\n",
    "#                        width=8,alpha=0.5,edge_color='r')\n",
    "\n",
    "\n",
    "# # # some math labels\n",
    "# # labels={}\n",
    "# # labels[0]=r'$a$'\n",
    "# # labels[1]=r'$b$'\n",
    "# # labels[2]=r'$c$'\n",
    "# # labels[3]=r'$d$'\n",
    "# # labels[4]=r'$\\alpha$'\n",
    "# # labels[5]=r'$\\beta$'\n",
    "# # labels[6]=r'$\\gamma$'\n",
    "# # labels[7]=r'$\\delta$'\n",
    "# # nx.draw_networkx_labels(G,pos,labels,font_size=16)\n",
    "\n",
    "# plt.axis('off')\n",
    "# plt.savefig(\"labels_and_colors.png\") # save as png\n",
    "# plt.show() # display"
   ]
  },
  {
   "cell_type": "code",
   "execution_count": null,
   "metadata": {
    "collapsed": false,
    "scrolled": true
   },
   "outputs": [],
   "source": [
    "# G = nx.connected_watts_strogatz_graph(30,5,.2)\n",
    "# nodes = G.nodes()\n",
    "# edges = G.edges()\n",
    "# # define the initial positions of the nodes using networkx's spring_layout function, and add to the nodes_dict.\n",
    "import networkx as nx\n",
    "import matplotlib.pyplot as plt\n",
    "import visJS2jupyter\n",
    "from visJS2jupyter import visJS_module\n",
    "\n",
    "G=nx.Graph()\n",
    "G.add_nodes_from(nodes)\n",
    "pos=nx.spring_layout(G) # positions for all nodes\n",
    "pos = nx.spring_layout(G)\n",
    "nodes_dict = [{\"id\":n,\n",
    "              \"x\":pos[n][0]*10,\n",
    "              \"y\":pos[n][1]*10} for n in nodes]\n",
    "node_map = dict(zip(nodes,range(len(nodes))))  # map to indices for source/target in edges\n",
    "\n",
    "edges_dict = [{\"source\":node_map[links[i][0]], \"target\":node_map[links[i][1]], \n",
    "              \"title\":'test'} for i in range(len(links))]\n",
    "\n",
    "visJS2jupyter.visJS_module.visjs_network(nodes_dict,edges_dict)"
   ]
  },
  {
   "cell_type": "markdown",
   "metadata": {},
   "source": [
    "The previous block of code render the graph below:\n",
    "\n",
    "![alt text](images/graph.png \"Graph\")"
   ]
  },
  {
   "cell_type": "code",
   "execution_count": null,
   "metadata": {
    "collapsed": false,
    "scrolled": false
   },
   "outputs": [],
   "source": [
    "import pandas as pd\n",
    "print(len(all_courses))\n",
    "df = pd.DataFrame.from_dict(all_courses)\n",
    "df"
   ]
  },
  {
   "cell_type": "code",
   "execution_count": null,
   "metadata": {
    "collapsed": false
   },
   "outputs": [],
   "source": [
    "nodes_json = []\n",
    "links_json = []\n",
    "\n",
    "for node in nodes:\n",
    "    current_node = {\n",
    "        'id':node,\n",
    "        'group':node[5]\n",
    "    }\n",
    "    nodes_json.append(current_node)\n",
    "    \n",
    "for link in links:\n",
    "    current_link = {\n",
    "        'source':link[0],\n",
    "        'target':link[1],\n",
    "        'value':1\n",
    "    }\n",
    "    links_json.append(current_link)"
   ]
  },
  {
   "cell_type": "code",
   "execution_count": null,
   "metadata": {
    "collapsed": false
   },
   "outputs": [],
   "source": [
    "nodes_json"
   ]
  },
  {
   "cell_type": "code",
   "execution_count": null,
   "metadata": {
    "collapsed": false
   },
   "outputs": [],
   "source": [
    "links_json"
   ]
  },
  {
   "cell_type": "code",
   "execution_count": null,
   "metadata": {
    "collapsed": false
   },
   "outputs": [],
   "source": [
    "import json\n",
    "with open('comp_links.json', 'w') as outfile:\n",
    "    json.dump({\n",
    "        'nodes':nodes_json,\n",
    "        'links':links_json    \n",
    "    }, outfile)"
   ]
  },
  {
   "cell_type": "markdown",
   "metadata": {
    "collapsed": true
   },
   "source": [
    "# Generates\n",
    "\n",
    "![alt text](images/js.png \"Javascript\")"
   ]
  },
  {
   "cell_type": "code",
   "execution_count": null,
   "metadata": {
    "collapsed": true
   },
   "outputs": [],
   "source": []
  },
  {
   "cell_type": "code",
   "execution_count": null,
   "metadata": {
    "collapsed": false
   },
   "outputs": [],
   "source": [
    "print('closing driver...')\n",
    "display.stop()\n",
    "driver.quit()\n",
    "print('closed!')"
   ]
  },
  {
   "cell_type": "code",
   "execution_count": null,
   "metadata": {
    "collapsed": true
   },
   "outputs": [],
   "source": []
  }
 ],
 "metadata": {
  "kernelspec": {
   "name": "python3",
   "language": "python",
   "display_name": "Python 3"
  },
  "language_info": {
   "codemirror_mode": {
    "name": "ipython",
    "version": 2
   },
   "file_extension": ".py",
   "mimetype": "text/x-python",
   "name": "python",
   "nbconvert_exporter": "python",
   "pygments_lexer": "ipython2",
   "version": "2.7.13"
  }
 },
 "nbformat": 4,
 "nbformat_minor": 2
}